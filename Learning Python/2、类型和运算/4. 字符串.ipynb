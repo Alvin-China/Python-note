{
 "cells": [
  {
   "cell_type": "markdown",
   "metadata": {},
   "source": [
    "# 1. 字符串基础  \n",
    "Python字符串是一个有序的字符的集合，被划分为不可变序列（immutable sequence）这一类别，用来存储和表现基于文本的信息。  \n",
    "在Python 3.x中有三种字符串类型：  \n",
    "- ***str***：用于Unicode文本（包括ASCII）\n",
    "- ***bytes***：用于二进制数据（包括已编码文本）\n",
    "- ***bytearray***：是bytes的一种可变的变体  \n",
    "\n",
    "文件在两种模式下工作：  \n",
    "- ***text***：内容为str格式，执行Unicode编码\n",
    "- ***binary***：处理原始bytes数据，不进行数据编译  \n",
    "\n",
    "**常见字符串常量和表达式**："
   ]
  },
  {
   "cell_type": "code",
   "execution_count": null,
   "metadata": {
    "collapsed": true
   },
   "outputs": [],
   "source": [
    "S = ''                      #空字符串\n",
    "S = \"spam's\"                #双引号和单\n",
    "S = 's\\np\\ta\\x00m'          #转义序列\n",
    "S = '''...多行字符串...'''    #三重引号字符串块\n",
    "S = r'\\temp\\spam'           #Raw字符串引号相同（无转义）\n",
    "B = b'sp\\xc4m'              #字节字符串\n",
    "U = u'sp\\u00c4m'            #Unicode字符串\n",
    "S1 + S2                     #合并（concatenate）\n",
    "S * 3                       #重复\n",
    "S[i]                        #索引\n",
    "S[i:j]                      #分片（slice）\n",
    "len(S)                      #求长度\n",
    "\"a %s parrot\" % kind        #字符串格式表达式\n",
    "\"a {0} parrot\".format(kind) #字符串格式化方法\n",
    "S.find('pa')                #字符串方法调用：搜索\n",
    "S.rstrip()                  #移除空格\n",
    "S.replace('pa', 'xx')       #替换\n",
    "S.split(',')                #用分隔符（delimiter）分割\n",
    "S.isdigit()                 #内容测试\n",
    "S.lower()                   #字体转换\n",
    "S.endswith('spam')          #结束测试\n",
    "'spam'.join(strlist)        #插入分隔符\n",
    "S.encode('latin-1')         #Unicode编码\n",
    "B.decode('utf8')            #Unicode解码\n",
    "for x in S: print(x)        #迭代\n",
    "'spam' in S\n",
    "[c * 2 for c in S]\n",
    "map(ord, S)                 #成员关系"
   ]
  },
  {
   "cell_type": "markdown",
   "metadata": {},
   "source": [
    "# 2. 字符串常量  \n",
    "字符串的编写方式有很多：  \n",
    "- 单引号：`'spa\"m'`\n",
    "- 双引号：`\"spa'm\"`\n",
    "- 三引号：`'''...spam...''',\"\"\"...spam...\"\"\"`\n",
    "- 转义字符：`\"s\\tp\\na\\0m\"`\n",
    "- Raw字符串：`r\"C:\\new\\test.spm\"`\n",
    "- bytes字符串：`b'sp\\x01am'`\n",
    "- Unicode字符串：`u'eggs\\u0020spam'`  \n",
    "\n",
    "最常见的是单引号和双引号，使用两种引号可以不使用反斜杠转义字符就可以实现在一个字符串中包含其余种类的引号。"
   ]
  },
  {
   "cell_type": "code",
   "execution_count": 1,
   "metadata": {},
   "outputs": [
    {
     "data": {
      "text/plain": [
       "(\"knight's\", 'knight\"s')"
      ]
     },
     "execution_count": 1,
     "metadata": {},
     "output_type": "execute_result"
    }
   ],
   "source": [
    "\"knight's\",'knight\"s'"
   ]
  },
  {
   "cell_type": "markdown",
   "metadata": {},
   "source": [
    "Python会自动在任意的表达式中合并相邻的字符串常量，也可以简单地在它们之间增加+操作符来明确地表示这是一个合并操作。"
   ]
  },
  {
   "cell_type": "code",
   "execution_count": 2,
   "metadata": {},
   "outputs": [
    {
     "data": {
      "text/plain": [
       "'Meaning of Life'"
      ]
     },
     "execution_count": 2,
     "metadata": {},
     "output_type": "execute_result"
    }
   ],
   "source": [
    "\"Meaning \"'of'\" Life\""
   ]
  },
  {
   "cell_type": "markdown",
   "metadata": {},
   "source": [
    "在字符串中间增加逗号会创建一个元组，而不是一个字符串。Python 倾向于以单引号打印字符串，除非字符串内已有单引号。"
   ]
  },
  {
   "cell_type": "code",
   "execution_count": 3,
   "metadata": {},
   "outputs": [
    {
     "data": {
      "text/plain": [
       "(\"knight's\", 'knight\"s')"
      ]
     },
     "execution_count": 3,
     "metadata": {},
     "output_type": "execute_result"
    }
   ],
   "source": [
    "'knight\\'s',\"knight\\\"s\""
   ]
  },
  {
   "cell_type": "markdown",
   "metadata": {},
   "source": [
    "## 2.1 转义序列（Escape sequences） \n",
    "转义序列可以在字符串中嵌入不容易通过键盘输入的字节。  \n",
    "转义序列以反斜杠 \\ 开头，后面接一个或多个字符，在最终的字符串对象中会被一个单个字符替代。  \n",
    "\n",
    "**字符串反斜杠字符**："
   ]
  },
  {
   "cell_type": "markdown",
   "metadata": {},
   "source": [
    "**转义**|**意义**\n",
    ":-------|:------\n",
    "\\newline|忽视（连续换行）\n",
    "\\\\|反斜杠（保留\\）\n",
    "\\'|单引号（保留'）\n",
    "\\\"|双引号（保留\"）\n",
    "\\a|响铃\n",
    "\\b|退格\n",
    "\\f|换页（formfeed）\n",
    "\\n|换行 Newline（linefeed）\n",
    "\\r|返回\n",
    "\\t|水平制表符\n",
    "\\v|垂直制表符\n",
    "\\N{id}|Unicode数据库ID\n",
    "\\uhhhh|Unicode 16位的十六进制值\n",
    "\\Uhhhhhhhh|Unicode 32位的十六进制值\n",
    "\\xhh|十六进制值hh\n",
    "\\ooo|八进制值ooo\n",
    "\\0|Null：二进制0字符（不是字符串结尾）\n",
    "\\other|不转义（保留 \\ 和other）"
   ]
  },
  {
   "cell_type": "markdown",
   "metadata": {},
   "source": [
    "Python以十六进制显示非打印的字符。"
   ]
  },
  {
   "cell_type": "code",
   "execution_count": 4,
   "metadata": {},
   "outputs": [
    {
     "data": {
      "text/plain": [
       "'\\x01\\x01\\x03'"
      ]
     },
     "execution_count": 4,
     "metadata": {},
     "output_type": "execute_result"
    }
   ],
   "source": [
    "s = '\\001\\001\\x03'\n",
    "s"
   ]
  },
  {
   "cell_type": "markdown",
   "metadata": {},
   "source": [
    "### raw字符串  \n",
    "当字母r（大写或小写）出现在字符串的第一个引号前则该字符串为一个raw字符串，raw字符串会关闭转义机制，raw字符串还可用于正则表达式。  \n",
    "raw字符串不能以单个的反斜杠结尾，若要用单个反斜杠结束一个raw字符串，有如下两个办法：\n",
    "1. 用两个反斜杠并切片掉第二个反斜杠：`r'1\\nb\\tc\\\\'[:-1]`\n",
    "2. 手动添加一个反斜杠：`r'1\\nb\\tc' + '\\\\'`"
   ]
  },
  {
   "cell_type": "markdown",
   "metadata": {},
   "source": [
    "### 三重引号  \n",
    "又称块字符串，可以编写多行文本数据，以三重引号开始（单引号和双引号都可以），并紧跟任意行数的文本，再以开始时同样的三重引号结尾。  \n",
    "三重引号字符串会保留所有引号内的字符串，包括代码右侧的注释，所以不要在引号内添加注释。  \n",
    "三重引号字符串常用于文档字符串，当它出现在文件的特定地点时，将被当作注释一样的字符串常量。  \n",
    "三重引号字符串还可用于临时废除一些代码，对于大段的代码，这比手动在每一行之前加入#号，之后再删除它们要容易得多。"
   ]
  },
  {
   "cell_type": "code",
   "execution_count": null,
   "metadata": {
    "collapsed": true
   },
   "outputs": [],
   "source": [
    "x = 1\n",
    "\"\"\"\n",
    "import os\n",
    "print(os.getcwd())\n",
    "\"\"\"\n",
    "y = 2"
   ]
  },
  {
   "cell_type": "markdown",
   "metadata": {},
   "source": [
    "## 字符串操作  \n",
    "### 字符串拼接  "
   ]
  },
  {
   "cell_type": "code",
   "execution_count": 3,
   "metadata": {},
   "outputs": [
    {
     "name": "stdout",
     "output_type": "stream",
     "text": [
      "spameggsfood\n"
     ]
    }
   ],
   "source": [
    "s = 'spam''eggs''food'\n",
    "print(s)"
   ]
  },
  {
   "cell_type": "code",
   "execution_count": 4,
   "metadata": {},
   "outputs": [
    {
     "name": "stdout",
     "output_type": "stream",
     "text": [
      "spameggsfood\n"
     ]
    }
   ],
   "source": [
    "s = 'spam' + 'eggs' + 'food'\n",
    "print(s)"
   ]
  },
  {
   "cell_type": "markdown",
   "metadata": {},
   "source": [
    "### 切片  \n",
    "切片可以让我们从一整个字符串中分离提取出一部分内容。python中偏移为左闭右开形式。"
   ]
  },
  {
   "cell_type": "code",
   "execution_count": 5,
   "metadata": {},
   "outputs": [
    {
     "name": "stdout",
     "output_type": "stream",
     "text": [
      "pa\n",
      "pm\n",
      "maps\n"
     ]
    }
   ],
   "source": [
    "s = 'spam'\n",
    "print(s[1:3])\n",
    "print(s[1::2])\n",
    "print(s[::-1])"
   ]
  },
  {
   "cell_type": "markdown",
   "metadata": {},
   "source": [
    "### 字符串转换  \n",
    "可以用int，float函数将字符串转换为数字或浮点数。str函数可以将数字转换为字符串表达式。  "
   ]
  },
  {
   "cell_type": "code",
   "execution_count": 6,
   "metadata": {},
   "outputs": [
    {
     "data": {
      "text/plain": [
       "54"
      ]
     },
     "execution_count": 6,
     "metadata": {},
     "output_type": "execute_result"
    }
   ],
   "source": [
    "int('22')+32"
   ]
  },
  {
   "cell_type": "code",
   "execution_count": 7,
   "metadata": {},
   "outputs": [
    {
     "data": {
      "text/plain": [
       "'33.02'"
      ]
     },
     "execution_count": 7,
     "metadata": {},
     "output_type": "execute_result"
    }
   ],
   "source": [
    "str(33.0)+'2'"
   ]
  },
  {
   "cell_type": "markdown",
   "metadata": {},
   "source": [
    "### 字符串代码转换  \n",
    "单个字符可以通过将其传给内置的ord函数转换为其对应的ASCII码。chr函数执行相反的操作。"
   ]
  },
  {
   "cell_type": "code",
   "execution_count": 8,
   "metadata": {},
   "outputs": [
    {
     "data": {
      "text/plain": [
       "97"
      ]
     },
     "execution_count": 8,
     "metadata": {},
     "output_type": "execute_result"
    }
   ],
   "source": [
    "ord('a')"
   ]
  },
  {
   "cell_type": "code",
   "execution_count": 9,
   "metadata": {},
   "outputs": [
    {
     "data": {
      "text/plain": [
       "'x'"
      ]
     },
     "execution_count": 9,
     "metadata": {},
     "output_type": "execute_result"
    }
   ],
   "source": [
    "chr(120)"
   ]
  },
  {
   "cell_type": "markdown",
   "metadata": {},
   "source": [
    "由于字符串是不可变对象，因此要改变一个字符串，需要利用合并、切片这样的工具来建立并赋值给一个新的字符串。  \n",
    "可以通过字符串格式化表达式来创建新的文本值。"
   ]
  },
  {
   "cell_type": "code",
   "execution_count": 10,
   "metadata": {},
   "outputs": [
    {
     "data": {
      "text/plain": [
       "'That is 1 dead bird!'"
      ]
     },
     "execution_count": 10,
     "metadata": {},
     "output_type": "execute_result"
    }
   ],
   "source": [
    "'That is %d %s bird!'%(1, 'dead')"
   ]
  },
  {
   "cell_type": "code",
   "execution_count": 11,
   "metadata": {},
   "outputs": [
    {
     "data": {
      "text/plain": [
       "'That is 1 dead bird!'"
      ]
     },
     "execution_count": 11,
     "metadata": {},
     "output_type": "execute_result"
    }
   ],
   "source": [
    "'That is {0} {1} bird!'.format(1, 'dead')"
   ]
  },
  {
   "cell_type": "markdown",
   "metadata": {},
   "source": [
    "## 字符串格式化表达式  \n",
    "字符串格式化允许在一个单个的步骤中对一个字符串执行多个特定类型的替换。  \n",
    "Python中的字符串格式化可以以三种形式实现：  \n",
    "- 字符串格式化表达式：'...%s...'%(values)  \n",
    "  从Python诞生的时候就有的最初的技术，基于C语言的“printf”模型，并且在大多数现有代码中使用。\n",
    "- 字符串格式化方法调用：'...{}...'.format(values)\n",
    "  Python独有的方法，并且和字符串格式化表达式功能有很大的重叠。\n",
    "- 使用特殊的`{}`序列，将想要打印的变量放入`{}`中，字符串以 f 字母开始，即`f\"Hello {somevar}\"`。"
   ]
  },
  {
   "cell_type": "markdown",
   "metadata": {},
   "source": [
    "### 格式化表达式  \n",
    "Python在对字符串操作的时候定义了%二进制操作符，%提供了简单的方法对字符串的值进行格式化，这一操作取决于格式化定义的字符串。  \n",
    "\n",
    "1. 在%操作符的左侧放置一个需要进行格式化的字符串，这个字符串带有一个或多个嵌入的转换目标，都以%开头（例如，%d）。\n",
    "2. 在%操作符右侧放置一个（或多个，嵌入到元组中）对象，这些对象将会插入到左侧想让Python进行格式化字符串的一个（或多个）转换目标的位置上去。\n",
    "\n",
    "%s表示把它们都转换成字符串，一般只需用%s，格式化总是会返回新的字符串作为结果而不是对左侧的字符串进行修改。"
   ]
  },
  {
   "cell_type": "code",
   "execution_count": 12,
   "metadata": {},
   "outputs": [
    {
     "data": {
      "text/plain": [
       "'42 -- 3.1415 -- [1, 2, 3]'"
      ]
     },
     "execution_count": 12,
     "metadata": {},
     "output_type": "execute_result"
    }
   ],
   "source": [
    "\"%s -- %s -- %s\"%(42, 3.1415, [1, 2, 3])"
   ]
  },
  {
   "cell_type": "markdown",
   "metadata": {},
   "source": [
    "对更高级的特定类型的格式化来说，可以使用格式化表达式中列出的任何一个转换代码。"
   ]
  },
  {
   "cell_type": "markdown",
   "metadata": {},
   "source": [
    "**代码**|**意义**\n",
    ":-------|:------\n",
    "`s`|字符串（或任何对象）\n",
    "`r`|s，但使用repr，而不是str\n",
    "`c`|字符\n",
    "`d`|十进制（整数）\n",
    "`i`|整数\n",
    "`u`|无号（整数）\n",
    "`o`|八进制整数\n",
    "`x`|十六进制整数\n",
    "`X`|x，但打印大写\n",
    "`e`|浮点指数\n",
    "`E`|e，但打印大写\n",
    "`f`|浮点十进制\n",
    "`F`|浮点十进制\n",
    "`g`|浮点e或f\n",
    "`G`|浮点E或F\n",
    "`%`|常量%"
   ]
  },
  {
   "cell_type": "markdown",
   "metadata": {},
   "source": [
    "在格式化字符串中，表达式左侧的转换目标支持多种转换操作，通用结构为：  \n",
    "`%[(keyname)][flags][width][.precision]typecode`  \n",
    "typecode为格式化表达式转换代码，在%和字符码之间，可以进行以下任何操作：  \n",
    "\n",
    "- 放置一个字典的键\n",
    "- 罗列出左对齐（-）、正号（+）、正数前补空格负数前补 - （一个空格）和补零（0）的标志位\n",
    "- 给出数字的整体长度和小数点后的位数\n",
    "\n",
    "width和precision都可以编码为一个\\*，以指定它们应该从输入值的下一项中取值"
   ]
  },
  {
   "cell_type": "code",
   "execution_count": 13,
   "metadata": {},
   "outputs": [
    {
     "name": "stdout",
     "output_type": "stream",
     "text": [
      "1...|1     ...|000001\n",
      "1.234560e+00 | 1.234560E+00 | 1.234560 | 1.234560 | 1.23456 | 1.23456\n",
      "1.23   | 01.23 | +001.2\n",
      "0.333333, 0.33, 0.3333\n"
     ]
    }
   ],
   "source": [
    "x = 1.23456\n",
    "a = \"%d...|%-6d...|%06d\"%(x, x, x)\n",
    "b = '%e | %E | %f | %F | %g | %G'%(x, x, x, x, x, x)\n",
    "c = '%-6.2f | %05.2f | %+06.1f'%(x, x, x)\n",
    "d = '%f, %.2f, %.*f'%(1/3.0, 1/3.0, 4, 1/3.0)\n",
    "print(a)\n",
    "print(b)\n",
    "print(c)\n",
    "print(d)"
   ]
  },
  {
   "cell_type": "markdown",
   "metadata": {},
   "source": [
    "### 基于字典的字符串格式化"
   ]
  },
  {
   "cell_type": "code",
   "execution_count": 14,
   "metadata": {},
   "outputs": [
    {
     "data": {
      "text/plain": [
       "'1 spam'"
      ]
     },
     "execution_count": 14,
     "metadata": {},
     "output_type": "execute_result"
    }
   ],
   "source": [
    "'%(n)d %(x)s'%{'n':1, 'x':'spam'}"
   ]
  },
  {
   "cell_type": "markdown",
   "metadata": {},
   "source": [
    "格式化字符串里（n）和（x）引用右边字典中的键，并提取它们相应的值。  \n",
    "常与内置函数vars配合使用，这个函数返回的字典包含了所有在本函数调用时存在的变量。"
   ]
  },
  {
   "cell_type": "code",
   "execution_count": 15,
   "metadata": {},
   "outputs": [
    {
     "data": {
      "text/plain": [
       "'40 fish'"
      ]
     },
     "execution_count": 15,
     "metadata": {},
     "output_type": "execute_result"
    }
   ],
   "source": [
    "food = 'fish'\n",
    "age = 40\n",
    "vars()\n",
    "'%(age)d %(food)s'%vars()"
   ]
  },
  {
   "cell_type": "markdown",
   "metadata": {},
   "source": [
    "## 字符串格式化调用方法\n",
    "format方法使用主体字符作为模板，接受任意多个表示将要根据模板替换的值的参数。  \n",
    "在主体字符串中，花括号通过位置、关键字或者相对位置指出替换目标及将要插入的参数。"
   ]
  },
  {
   "cell_type": "code",
   "execution_count": 16,
   "metadata": {},
   "outputs": [
    {
     "data": {
      "text/plain": [
       "'spam, ham and eggs'"
      ]
     },
     "execution_count": 16,
     "metadata": {},
     "output_type": "execute_result"
    }
   ],
   "source": [
    "template = '{0}, {1} and {2}'\n",
    "template.format('spam', 'ham', 'eggs')"
   ]
  },
  {
   "cell_type": "code",
   "execution_count": 17,
   "metadata": {},
   "outputs": [
    {
     "data": {
      "text/plain": [
       "'spam, ham and eggs'"
      ]
     },
     "execution_count": 17,
     "metadata": {},
     "output_type": "execute_result"
    }
   ],
   "source": [
    "template = '{motto}, {pork} and {food}'\n",
    "template.format(motto = 'spam', pork = 'ham', food = 'eggs')"
   ]
  },
  {
   "cell_type": "code",
   "execution_count": 18,
   "metadata": {},
   "outputs": [
    {
     "data": {
      "text/plain": [
       "'spam, ham and eggs'"
      ]
     },
     "execution_count": 18,
     "metadata": {},
     "output_type": "execute_result"
    }
   ],
   "source": [
    "template = '{}, {} and {}'\n",
    "template.format('spam', 'ham', 'eggs')"
   ]
  },
  {
   "cell_type": "markdown",
   "metadata": {},
   "source": [
    "**千位分隔符**"
   ]
  },
  {
   "cell_type": "code",
   "execution_count": 5,
   "metadata": {},
   "outputs": [
    {
     "data": {
      "text/plain": [
       "'1,234,567'"
      ]
     },
     "execution_count": 5,
     "metadata": {},
     "output_type": "execute_result"
    }
   ],
   "source": [
    "format(1234567, ',d')"
   ]
  },
  {
   "cell_type": "markdown",
   "metadata": {
    "collapsed": true
   },
   "source": [
    "## 新字符串格式方法"
   ]
  },
  {
   "cell_type": "code",
   "execution_count": 1,
   "metadata": {},
   "outputs": [
    {
     "name": "stdout",
     "output_type": "stream",
     "text": [
      "the string is spam\n"
     ]
    }
   ],
   "source": [
    "var = 'spam'\n",
    "print(f\"the string is {var}\")"
   ]
  },
  {
   "cell_type": "code",
   "execution_count": null,
   "metadata": {},
   "outputs": [],
   "source": []
  }
 ],
 "metadata": {
  "kernelspec": {
   "display_name": "Python 3",
   "language": "python",
   "name": "python3"
  },
  "language_info": {
   "codemirror_mode": {
    "name": "ipython",
    "version": 3
   },
   "file_extension": ".py",
   "mimetype": "text/x-python",
   "name": "python",
   "nbconvert_exporter": "python",
   "pygments_lexer": "ipython3",
   "version": "3.6.5"
  }
 },
 "nbformat": 4,
 "nbformat_minor": 2
}
