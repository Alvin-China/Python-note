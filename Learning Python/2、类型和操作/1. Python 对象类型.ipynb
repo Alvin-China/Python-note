{
 "cells": [
  {
   "cell_type": "markdown",
   "metadata": {},
   "source": [
    "# 1. 变量"
   ]
  },
  {
   "cell_type": "code",
   "execution_count": 1,
   "metadata": {},
   "outputs": [
    {
     "name": "stdout",
     "output_type": "stream",
     "text": [
      "Hello World\n"
     ]
    }
   ],
   "source": [
    "message = \"Hello World\"\n",
    "print(message)"
   ]
  },
  {
   "cell_type": "markdown",
   "metadata": {},
   "source": [
    "这里message为一个变量，与字符串“Hello World”关联在一起。\n",
    "- 变量名只能包含字母、数字和下划线，变量名可以字母或下划线开头，但不能以数字开头。\n",
    "- 变量名不能包含空格，但可以使用下划线分隔其中单词。\n",
    "- 不能将Python关键字和函数名用作函数名。\n",
    "- 变量名应既简短又具有描述性。\n",
    "- 慎用小写字母l和大写字母O。  \n",
    "\n",
    "在Python中：  \n",
    "- 变量在它第一次赋值时创建。\n",
    "- 变量在表达式中使用将被替换为它们的值。\n",
    "- 变量在表达式中使用以前必须已赋值。\n",
    "- 变量像对象一样不需要在一开始进行声明。\n",
    "\n",
    "Python中有三个主要类型（以及操作）的分类：  \n",
    "- 数字（整数、浮点数、二进制、分数等）  \n",
    "    支持加法和乘法等。  \n",
    "- 序列（字符串、列表、元组）  \n",
    "    支持索引、分片和合并等。  \n",
    "- 映射（字典）  \n",
    "    支持通过键的索引等。  \n",
    "\n",
    "Python中主要核心类型划分为如下两类：  \n",
    "- **不可变类型**：数字、字符串、元组、不可变集合  \n",
    "- **可变类型**：列表、字典、可变集合"
   ]
  },
  {
   "cell_type": "markdown",
   "metadata": {},
   "source": [
    "# 2. Python对象类型"
   ]
  },
  {
   "cell_type": "markdown",
   "metadata": {},
   "source": [
    "```python\n",
    "# Numbers  \n",
    "# 数字\n",
    "1234,3.1415,3+4j,0b111\n",
    "\n",
    "# Strings\n",
    "# 字符串\n",
    "'spam',\"Bob's\",b'a\\x01c',u'sp\\xc4m'\n",
    "\n",
    "# Lists\n",
    "# 列表\n",
    "[1,[2,'three'],4.5],list(range(10))\n",
    "\n",
    "# Dictionaries  \n",
    "# 字典\n",
    "{'food':'spam','taste':'yum'},dict(hours=10)\n",
    "\n",
    "# Tuples\n",
    "# 元组\n",
    "(1,'spam',4,'U'),tuple('spam'),namedtuple\n",
    "\n",
    "# Files\n",
    "# 文件\n",
    "open('eggs.txt'),open(r'C:\\ham.bin','wb')\n",
    "\n",
    "# Sets\n",
    "# 集合\n",
    "set('abc'),{'a','b','c'}\n",
    "\n",
    "# Other core types  \n",
    "# 其他类型\n",
    "Booleans,types,None\n",
    "\n",
    "# Program unit types\n",
    "# 程序单元类型\n",
    "Functions,modules,classes\n",
    "\n",
    "# Implementation-related types\n",
    "# 与实现相关的类型\n",
    "Compiled code,stack tracbacks\n",
    "```"
   ]
  },
  {
   "cell_type": "code",
   "execution_count": null,
   "metadata": {
    "collapsed": true
   },
   "outputs": [],
   "source": []
  }
 ],
 "metadata": {
  "kernelspec": {
   "display_name": "Python 3",
   "language": "python",
   "name": "python3"
  },
  "language_info": {
   "codemirror_mode": {
    "name": "ipython",
    "version": 3
   },
   "file_extension": ".py",
   "mimetype": "text/x-python",
   "name": "python",
   "nbconvert_exporter": "python",
   "pygments_lexer": "ipython3",
   "version": "3.6.5"
  }
 },
 "nbformat": 4,
 "nbformat_minor": 2
}
